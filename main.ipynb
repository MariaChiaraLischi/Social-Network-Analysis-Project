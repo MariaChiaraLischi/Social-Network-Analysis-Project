{
 "cells": [
  {
   "cell_type": "markdown",
   "id": "c18bdd9e",
   "metadata": {},
   "source": [
    "# Introduction"
   ]
  },
  {
   "cell_type": "markdown",
   "id": "d76fe01b",
   "metadata": {},
   "source": [
    "## Group members"
   ]
  },
  {
   "cell_type": "markdown",
   "id": "ce157a29",
   "metadata": {},
   "source": [
    "The group is composed by three second year Management and Computer Science students: Maria Chiara Lischi, Gabriele Pacielli, Matteo Spadaccia."
   ]
  },
  {
   "cell_type": "markdown",
   "id": "cae0ec71",
   "metadata": {},
   "source": [
    "## The graph"
   ]
  },
  {
   "cell_type": "markdown",
   "id": "3632f9b8",
   "metadata": {},
   "source": [
    "In order to challenge our knowledge, we decided to choose the graph related to political blogs, which is directed and unweighted. The graph is huge, containing 1224 nodes liked to each other by 19025 edges.\n",
    "\n",
    "The graph we decided to analyze is a directed network of hyperlinks among a large set of U.S. political weblogs from before the 2004 election. It includes blog political affiliation as metadata, where each node represents a political blog and each link represents a reference from one blog to another. \n",
    "\n",
    "During our researches on the nature of the graph, we discovered that it was the object of an interesting paper in which it is analyzed deeply by Lada A. Adamic and Natalie Glance, \"The political blogosphere and the 2004 US Election\", in Proceedings of the WWW-2005 Workshop on the Weblogging Ecosystem, 2005 (<https://edisciplinas.usp.br/pluginfile.php/3333574/mod_resource/content/2/p36-adamic.pdf>).\n",
    "\n",
    "We also discovered that the data we had are a portion of the original one available online, which is reperible here <https://networks.skewed.de/net/polblogs>. This more complete dataset (which is located in the folder \"Original graph\") contains information about a total of 1490 nodes. The additional information we gathered contains the URL of the blog to which each node is related, and a lablel for the political orientation of each node (0 for left or liberal, and 1 for right or conservative). We used this additional information for enhance our analysis.\n",
    "\n",
    "In our work, we focused on the nodes which have an in-degree or out-degree of at least one (excluding the singletons). The graph we worked on is therefore characterized by 1224 nodes, liked to each other by 19025 edges. The source from wich the dataset is reachable is the following: <http://konect.cc/networks/dimacs10-polblogs/>.\n",
    "\n",
    "Below a representation of the Network, which was coloured following the political orientation of the nodes (blue for left or liberal and red for right or conservative), which was obtained by implementing the graph in Gephi and applying the \"force Atlas 2\" algorithm for the visualization. We can see that the graph is polarized according to the political orientation of nodes. "
   ]
  },
  {
   "cell_type": "markdown",
   "id": "cfd5f00b",
   "metadata": {},
   "source": [
    "<img src=\"graph visualization.png\" alt=\"graph visualization\" />"
   ]
  },
  {
   "cell_type": "markdown",
   "id": "ae141d50",
   "metadata": {},
   "source": [
    "We will now get in deep with the analysis of the graph, for which we will need some libraries imported below."
   ]
  },
  {
   "cell_type": "markdown",
   "id": "cede4810",
   "metadata": {},
   "source": [
    "## Import packages\n",
    "[coding section N°1]"
   ]
  },
  {
   "cell_type": "code",
   "execution_count": 1,
   "id": "c1373f14",
   "metadata": {},
   "outputs": [],
   "source": [
    "import random #random generator\n",
    "import networkx as nx #network \n",
    "import matplotlib.pyplot as plt #drawing\n",
    "import numpy as np #matrices\n",
    "import csv #reading excel files\n",
    "import pandas as pd\n",
    "import time\n",
    "import networkx.algorithms.community as nxc\n",
    "import networkx.algorithms.community.quality as q\n",
    "from tqdm.notebook import tqdm\n",
    "from sklearn.metrics.cluster import normalized_mutual_info_score"
   ]
  },
  {
   "cell_type": "markdown",
   "id": "0281cb33",
   "metadata": {},
   "source": [
    "# Week 1: Networks"
   ]
  },
  {
   "cell_type": "markdown",
   "id": "9197fabc",
   "metadata": {},
   "source": [
    "## Code explanation\n",
    "[coding sections N°2,3,4]"
   ]
  },
  {
   "cell_type": "markdown",
   "id": "f7a54733",
   "metadata": {},
   "source": [
    "In order to implement our graph on Phyton:\n",
    "- we iterated over the csv file containing the complete (but raw) list of edges present in the graph to consider the mentioned nodes and edges on NetworkX;\n",
    "- we assumed that the not mentioned nodes are not present in the graph, not even as completelly disconnected ones.\n",
    "\n",
    "The subgraph we decided to implement is the one composed by the node with the highest in degree and all its in-neighbors, therefore:\n",
    "- we discovered the most in-connected node by iterating over the edge list of the graph;\n",
    "- we computed the aforementioned subgraph considering firstly all the nodes included and then all the edges between them.\n",
    "\n",
    "Finally:\n",
    "- we reported the number of nodes and the actual number of edges (without repetitions);\n",
    "- we simply calculated the average degree and the density of our graph using the formulas seen during the lectures."
   ]
  },
  {
   "cell_type": "markdown",
   "id": "77173254",
   "metadata": {},
   "source": [
    "## Implementing the choosen social network\n",
    "[coding section N°2]"
   ]
  },
  {
   "cell_type": "code",
   "execution_count": 2,
   "id": "03e7bac4",
   "metadata": {
    "scrolled": true
   },
   "outputs": [
    {
     "name": "stdout",
     "output_type": "stream",
     "text": [
      "Computing the graph: Done!\n",
      "Some of the edges in the list of edges were repeated\n"
     ]
    }
   ],
   "source": [
    "# IMPLEMENTING THE GRAPH ON NETWORKX\n",
    "\n",
    "print(\"Computing the graph:\", end=' ')\n",
    "\n",
    "with open(\"Political_blogs/Political_blogs_edge.txt\", \"r\") as f:\n",
    "    \n",
    "    row = f.readline().strip() #eliminating useless first line\n",
    "    \n",
    "    # Variables initialization\n",
    "    G = nx.DiGraph() #creating an empty directed graph\n",
    "    row = f.readline().strip() #reading the first effective line\n",
    "    \n",
    "    flag = 0 # tis is to check whether there is a repetition of some edges\n",
    "    \n",
    "    while row != \"]\": #stops with the ending characer of the file\n",
    "        a, b = row.split(' ')\n",
    "        a = int(a)\n",
    "        b = int(b)\n",
    "        if (a,b) not in G.edges():\n",
    "            G.add_edge(a,b)\n",
    "        else:\n",
    "            flag = 1\n",
    "        row = f.readline().strip() #to go to the following row\n",
    "\n",
    "print(\"Done!\")\n",
    "if flag == 1:\n",
    "    print(\"Some of the edges in the list of edges were repeated\")"
   ]
  },
  {
   "cell_type": "markdown",
   "id": "e4ec5f2a",
   "metadata": {},
   "source": [
    "## Computing and drawing a choosen subgraph of the graph\n",
    "[coding section N°3]"
   ]
  },
  {
   "cell_type": "code",
   "execution_count": 3,
   "id": "3828ad09",
   "metadata": {
    "scrolled": true
   },
   "outputs": [
    {
     "name": "stdout",
     "output_type": "stream",
     "text": [
      "Preparing to draw the subgraph composed by the node with highest in-degree and its in-neighbors:\n",
      "Searching for the node with the highest in-degree: Done!\n",
      "The node 155 is the one with the highest in-degree (337 in-edges)\n",
      "Computing the choosen subgraph: Done!\n",
      "Drawing the subgraph:\n"
     ]
    },
    {
     "data": {
      "image/png": "[encoded data removed]",
      "text/plain": [
       "<Figure size 640x480 with 1 Axes>"
      ]
     },
     "metadata": {},
     "output_type": "display_data"
    }
   ],
   "source": [
    "# COMPUTING THE SUBGRAPH CONTAINING THE NODE WITH THE HIGHEST OUT-DEGREE\n",
    "# AND ALL THE NODES REACHABLE FROM IT WITH PATHS OF LENGTH ONE\n",
    "\n",
    "print(\"Preparing to draw the subgraph composed by the node with highest in-degree and its in-neighbors:\")\n",
    "\n",
    "# Searching for the node with the highest out-degree:\n",
    "print(\"Searching for the node with the highest in-degree:\", end=' ')\n",
    "\n",
    "# Variables initialization\n",
    "kout = {n:G.out_degree(n) for n in G.nodes()} #dictionary with all the out degrees\n",
    "kin = {n:G.in_degree(n) for n in G.nodes()} #dictionary with all the in degrees\n",
    "\n",
    "# Searching the most in-connected node\n",
    "kmax = max(kin.values()) #highest out-degree value\n",
    "kmaxs = [n for n in kin if kin[n] == kmax] #list of nodes where the highest in-degree value is reached\n",
    "nmax = kmaxs[0] #first node where the highest in-degree value is reached\n",
    "repetition = len(kmaxs) #to understand if there is more than one node with the highest in-degree\n",
    "\n",
    "print(\"Done!\")\n",
    "if repetition == 1:\n",
    "    print(\"The node \", nmax, \" is the one with the highest in-degree (\", kmax, \" in-edges)\", sep='')\n",
    "else:\n",
    "    print(\"The node \", nmax, \" is one of the \", repetition,\" with the highest in-degree (\", kmax, \" in-edges)\", sep='')\n",
    "    \n",
    "# Computing the choosen subgraph:\n",
    "print(\"Computing the choosen subgraph:\", end=' ')\n",
    "\n",
    "# Variables initialization\n",
    "S = nx.DiGraph() #creating an empty directed graph\n",
    "S.add_node(nmax) #adding the 'central' node\n",
    "\n",
    "# Adding the out neighbors of the 'central' node\n",
    "for u,v in G.edges():\n",
    "    if v == nmax:\n",
    "        S.add_node(u)\n",
    "        S.add_edge(u,nmax)\n",
    "\n",
    "# Adding the remaining edges\n",
    "for u,v in G.edges():\n",
    "    if (u in S.nodes()) and (v in S.nodes()):\n",
    "        S.add_edge(u,v)\n",
    "\n",
    "print(\"Done!\")\n",
    "\n",
    "\n",
    "# DRAWING THE SUBGRAPH\n",
    "print(\"Drawing the subgraph:\")\n",
    "nx.draw_kamada_kawai(S, node_size=50)"
   ]
  },
  {
   "cell_type": "markdown",
   "id": "74ebdb88",
   "metadata": {},
   "source": [
    "## Returning the number of nodes and edges, computing average degree and density of the graph\n",
    "[coding section N°4]"
   ]
  },
  {
   "cell_type": "code",
   "execution_count": 4,
   "id": "30138f81",
   "metadata": {
    "scrolled": true
   },
   "outputs": [
    {
     "name": "stdout",
     "output_type": "stream",
     "text": [
      "The number of nodes of the graph is: 1224\n",
      "The number of edges of the graph is: 19025\n",
      "The avarage degree of the graph is: 15.543300653594772\n",
      "The density of the graph is: 0.012709158343086484\n"
     ]
    }
   ],
   "source": [
    "#Returning the number of nodes\n",
    "print(\"The number of nodes of the graph is:\", end=\" \")\n",
    "N = len(G.nodes()) #actual number of nodes\n",
    "print(N)\n",
    "\n",
    "#Returning the number of edges\n",
    "print(\"The number of edges of the graph is:\", end=\" \")\n",
    "E = len(G.edges()) #actual number of edges\n",
    "print(E)\n",
    "\n",
    "#Computing the avarage degree:\n",
    "print(\"The avarage degree of the graph is:\", end=\" \")\n",
    "avg_degree = E/N\n",
    "print(avg_degree)\n",
    "\n",
    "#Computing the density:\n",
    "print(\"The density of the graph is:\", end=\" \")\n",
    "density = E/(N*(N-1))\n",
    "print(density)    "
   ]
  },
  {
   "cell_type": "markdown",
   "id": "8d309107",
   "metadata": {},
   "source": [
    "## Analysis"
   ]
  },
  {
   "cell_type": "markdown",
   "id": "d718c7b4",
   "metadata": {},
   "source": [
    "The graph is direct, unweighted and huge. It contains 1224 nodes liked by 19025 edges. Despite the nodes are labeled until node 1490, only 1224 of them are actually mentioned in the edge list and therefore considered by our analysis (the others are singletons). Other characteristics that are worth mentioning are its average degree of about 15.5 links for each node, and its very low density, of about 0.0127, which indicates that the graph is sparse.\n",
    "\n",
    "We decided to implement a subgraph that considered the most referenced blog and all the 337 blogs that referenced it. Since the most referenced blog correspond to the node with the highest in degree, which is node 155, we looked for the corresponding URL: <https://www.dailykos.com>, which is an important liberal forum."
   ]
  },
  {
   "cell_type": "markdown",
   "id": "b7ae842e",
   "metadata": {},
   "source": [
    "# Week 2: Small World"
   ]
  },
  {
   "cell_type": "markdown",
   "id": "b2acc06d",
   "metadata": {},
   "source": [
    "## Code explanation\n",
    "[coding sections N°5,6]"
   ]
  },
  {
   "cell_type": "markdown",
   "id": "a131cd8f",
   "metadata": {},
   "source": [
    "We calculated the distance statistics of our graph by:\n",
    "- iterating over all the possible pairs of nodes in the graph;\n",
    "- calculating the shortest path length between them using the related NetworkX function (for computational reasons, we considered the distance to be 0 if the two nodes did not have a strong connection);\n",
    "- updating the diameter value to the highest path length found at each iteration;\n",
    "- computing the average path length and the inverse average path length from the results.\n",
    "\n",
    "An alternative way to compute these statistics would have been to use the adjacency matrix and its powers, avoiding the NetworkX function for the shortest path computation. We implemented this method below, in week 7, for the Katz Index computation."
   ]
  },
  {
   "cell_type": "markdown",
   "id": "f237940f",
   "metadata": {},
   "source": [
    "## Returning average distance and diameter\n",
    "[coding section N°5]"
   ]
  },
  {
   "cell_type": "code",
   "execution_count": 5,
   "id": "2b65b05e",
   "metadata": {
    "scrolled": true
   },
   "outputs": [
    {
     "name": "stdout",
     "output_type": "stream",
     "text": [
      "Computing average distance, average inverse distance, diameter: ___________________________ Done!\n",
      "The graph is not strongly connected, but not considering when the nodes are not connected:\n",
      "The average distance is: 2.2222562914508948\n",
      "The diameter is: 9\n"
     ]
    }
   ],
   "source": [
    "# COMPUTING THE AVERAGE DISTANCE, THE AVERAGE INVERSE DISTANCE AND THE DIAMETER\n",
    "\n",
    "print(\"Computing average distance, average inverse distance, diameter:\", end=' ')\n",
    "\n",
    "# Initializing variables\n",
    "diameter = 0 #will become the diameter of the graph\n",
    "distance_sum = 0 #the sum of all the distances among nodes of the graph\n",
    "disconnected = 0 #to understand whereas the graph is connected\n",
    "inv_distance_sum = 0 #the inverse sum of all the distances among nodes of the graph\n",
    "loading = 0 #inizialitaion of the loading bar variable\n",
    "\n",
    "# Computing the sum of the distances, the sum of their inverse and obtaining the diameter\n",
    "for u in G.nodes():\n",
    "    for v in G.nodes():\n",
    "        if u != v:\n",
    "            try:\n",
    "                distance_u_v = nx.shortest_path_length(G, u, v)\n",
    "                inv_distance_sum += 1/distance_u_v\n",
    "            except:\n",
    "                distance_u_v = 0\n",
    "                disconnected += 1\n",
    "            distance_sum += distance_u_v\n",
    "            if diameter < distance_u_v:\n",
    "                diameter = distance_u_v\n",
    "            \n",
    "    # Loading bar  \n",
    "    loading += 1\n",
    "    if loading >= N/10:\n",
    "        loading = 0\n",
    "        print(\"___\", end=\"\")\n",
    "\n",
    "# Computing the average distance\n",
    "avg_distance = distance_sum/(N*(N-1))\n",
    "\n",
    "# Computing the average inverse distance\n",
    "inv_avg_distance = (N*(N-1))/inv_distance_sum\n",
    "\n",
    "print(\" Done!\")\n",
    "\n",
    "\n",
    "# RETURNING THE AVERAGE DISTANCE AND THE DIAMETER\n",
    "\n",
    "if disconnected == 0:\n",
    "    print(\"The graph is strongly connected!\")\n",
    "else:\n",
    "    print(\"The graph is not strongly connected, but not considering when the nodes are not connected:\")\n",
    "print(\"The average distance is:\", avg_distance)\n",
    "print(\"The diameter is:\", diameter)"
   ]
  },
  {
   "cell_type": "markdown",
   "id": "56daf323",
   "metadata": {},
   "source": [
    "## Returning the average inverse distance\n",
    "[coding section N°6]"
   ]
  },
  {
   "cell_type": "code",
   "execution_count": 6,
   "id": "9a6f616b",
   "metadata": {
    "scrolled": true
   },
   "outputs": [
    {
     "name": "stdout",
     "output_type": "stream",
     "text": [
      "The average inverse distance is: 4.559825637239215\n"
     ]
    }
   ],
   "source": [
    "# RETURNING THE AVERAGE INVERSE DISTANCE (computed in coding section N°5)\n",
    "\n",
    "print(\"The average inverse distance is:\", inv_avg_distance)"
   ]
  },
  {
   "cell_type": "markdown",
   "id": "605f19ed",
   "metadata": {},
   "source": [
    "## Analysis"
   ]
  },
  {
   "cell_type": "markdown",
   "id": "59cae691",
   "metadata": {},
   "source": [
    "We can observe that the average distance in our graph (approximately 2.2) is quite small, as the diameter (= 9). Although, the graph is not strongly connected, so the most representative value is the average inverse distance (approximately 4.6)."
   ]
  },
  {
   "cell_type": "markdown",
   "id": "a398db3d",
   "metadata": {},
   "source": [
    "# Week 3: Hubs"
   ]
  },
  {
   "cell_type": "markdown",
   "id": "4bc6d21e",
   "metadata": {},
   "source": [
    "## Code explanation\n",
    "[coding sections N°7,8,9]"
   ]
  },
  {
   "cell_type": "markdown",
   "id": "7ff8189f",
   "metadata": {},
   "source": [
    "We decided to compute the decay centrality as measure of centrality for our graph: it is indicated for directed graphs and giving a centrality measure based on the proximity between a choosen vertex and every other vertex weighted by the decay. Therefore:\n",
    "- we iterated over all the possible pairs of nodes in the graph;\n",
    "- we calculated the shortest path length between them using the related NetworkX function (for computational reasons, we considered the delta^distance to be 0 if the two nodes did not have a strong connection);\n",
    "- we summed up the total centrality value for each node."
   ]
  },
  {
   "cell_type": "markdown",
   "id": "ee187361",
   "metadata": {},
   "source": [
    "## Computing the decay centrality of each node\n",
    "[coding section N°7]"
   ]
  },
  {
   "cell_type": "code",
   "execution_count": 7,
   "id": "99a733fc",
   "metadata": {
    "scrolled": true
   },
   "outputs": [
    {
     "name": "stdout",
     "output_type": "stream",
     "text": [
      "Computing decay centrality of each node with coefficient 0.25: ___________________________ Done!\n"
     ]
    }
   ],
   "source": [
    "# COMPUTING THE DECAY CENTRALITY OF EACH NODE\n",
    "\n",
    "delta = 0.25 #value of delta for the decay centrality computation\n",
    "\n",
    "print(\"Computing decay centrality of each node with coefficient \", delta, \":\", sep='', end=' ')\n",
    "\n",
    "# Variables initialization\n",
    "C = [] #creating an empty list that will be filled with the ordered decay centrality values\n",
    "loading = 0 #inizialitaion of the loading bar variable\n",
    "cmax = -1 #will be updated to the highest out-degree value\n",
    "ncmax = -1 #will be updated to the node with the highest out-degree\n",
    "\n",
    "# Computing th decay centrality of each node\n",
    "for u in G.nodes():\n",
    "    c = 0\n",
    "    for v in G.nodes():\n",
    "        if u != v:\n",
    "            try:\n",
    "                c += delta**nx.shortest_path_length(G, u, v)\n",
    "            except:\n",
    "                pass\n",
    "    C.append(c)\n",
    "    if c > cmax:\n",
    "        cmax = c\n",
    "        ncmax = u\n",
    "        \n",
    "    # Loading bar\n",
    "    loading += 1\n",
    "    if loading >= N/10:\n",
    "        loading = 0\n",
    "        print(\"___\", end=\"\")\n",
    "\n",
    "print(\" Done!\")"
   ]
  },
  {
   "cell_type": "markdown",
   "id": "ce718b7d",
   "metadata": {},
   "source": [
    "## Returning the most central node\n",
    "[coding section N°8]"
   ]
  },
  {
   "cell_type": "code",
   "execution_count": 8,
   "id": "badb273e",
   "metadata": {
    "scrolled": false
   },
   "outputs": [
    {
     "name": "stdout",
     "output_type": "stream",
     "text": [
      "The most central node is 855 with a decay centrality of 86.969970703125\n"
     ]
    }
   ],
   "source": [
    "# RETRURNING THE MOST CENTRAL NODE (computed in coding section N°7)\n",
    "\n",
    "print(\"The most central node is\", ncmax, \"with a decay centrality of\", cmax)"
   ]
  },
  {
   "cell_type": "markdown",
   "id": "f91cc209",
   "metadata": {},
   "source": [
    "## Drawing the cumulative distribution of the decay centrality\n",
    "[coding section N°9]"
   ]
  },
  {
   "cell_type": "code",
   "execution_count": 9,
   "id": "81cc6f80",
   "metadata": {
    "scrolled": true
   },
   "outputs": [
    {
     "name": "stdout",
     "output_type": "stream",
     "text": [
      "Computing the cumulative distribution of the decay centrality:\n"
     ]
    },
    {
     "data": {
      "text/plain": [
       "[<matplotlib.lines.Line2D at 0x7f8e5990f790>]"
      ]
     },
     "execution_count": 9,
     "metadata": {},
     "output_type": "execute_result"
    },
    {
     "data": {
      "image/png": "[encoded data removed]",
      "text/plain": [
       "<Figure size 640x480 with 1 Axes>"
      ]
     },
     "metadata": {},
     "output_type": "display_data"
    }
   ],
   "source": [
    "# COMPUTING AND DRAWING THE CUMULATIVE DISTRIBUTION OF THE DECAY CENTRALITY\n",
    "\n",
    "print(\"Computing the cumulative distribution of the decay centrality:\")\n",
    "\n",
    "%matplotlib inline\n",
    "\n",
    "cdf_x = [] # list of x-axis\n",
    "cdf_y = [] # list of y-axis\n",
    "data_centralities_copy = C.copy()\n",
    "N_temp = N # N_temp will represent the remaining number of nodes above the current x\n",
    "while data_centralities_copy:\n",
    "    current_min = min(data_centralities_copy) # gives the current x-axis value\n",
    "    current_num = data_centralities_copy.count(current_min) # gives how many nodes will disappear when goin through the current x-axis value\n",
    "    cdf_x.append(current_min) #\n",
    "    cdf_y.append(N_temp) #\n",
    "    N_temp = N_temp - current_num \n",
    "    for n in range(current_num): \n",
    "        data_centralities_copy.remove(current_min) \n",
    "\n",
    "# Plotting\n",
    "plt.xlabel('decay centrality') \n",
    "plt.ylabel('nodes')\n",
    "plt.title('CDF of decay centrality distribution')\n",
    "plt.plot(cdf_x,cdf_y)"
   ]
  },
  {
   "cell_type": "markdown",
   "id": "00dd4dbd",
   "metadata": {},
   "source": [
    "## Analysis"
   ]
  },
  {
   "cell_type": "markdown",
   "id": "e7b28864",
   "metadata": {},
   "source": [
    "We found out that the node with the highest deacy centrality was the same one we focused on before when calculating the subgraph. We calculated the distribution by sorting our array and using matplotlib for plotting it."
   ]
  },
  {
   "cell_type": "markdown",
   "id": "b784d96f",
   "metadata": {},
   "source": [
    "# Week 5: PageRank"
   ]
  },
  {
   "cell_type": "markdown",
   "id": "f6066275",
   "metadata": {},
   "source": [
    "## Code explanation\n",
    "[coding sections N°10,11,12,13,14]"
   ]
  },
  {
   "cell_type": "markdown",
   "id": "1b6ea3aa",
   "metadata": {},
   "source": [
    "Using the approach seen during the lessons, we realized that during the various iterations the nodes that do not have outgoing links accumulated the PageRank with the passing of the iterations, and the cumulative function distribution did not arrive at one. We found a solution that took in consideration those nodes allowing to redistribute the PageRank in the graph; the formula we used is the following:\n",
    "\n",
    "$Rank(v)_{t} = { {\\alpha \\over N} + {(1 - \\alpha)} * ( \\sum_{u_{i}}{Rank(u_{i})_{t-1} \\over OutDegree(u_{i})} + \\sum_{u_{j}}{Rank(u_{j})_{t-1} \\over N})}$\n",
    "\n",
    "Where:\n",
    "- $v$ is the node for which we are computing the PageRank\n",
    "- $u_i$ is each node that links to node v\n",
    "- $u_j$ is each node that has out-degree = 0\n",
    "- $n$ is the number of nodes\n",
    "- $\\alpha$ is the teleportation factor\n",
    "- $t$ is the current iteration\n",
    "\n",
    "Implementing the same number of iterations in NetworkX PageRank function and in ours, we obtained the same values (with an error of $1.5 * 10^{-17}$) and the same Rank as NetworkX built-in function. "
   ]
  },
  {
   "cell_type": "markdown",
   "id": "27327d92",
   "metadata": {},
   "source": [
    "## Writing a function to compute the PageRank of the nodes in a graph \n",
    "[coding section N°10]"
   ]
  },
  {
   "cell_type": "code",
   "execution_count": 10,
   "id": "e788451d",
   "metadata": {
    "scrolled": true
   },
   "outputs": [],
   "source": [
    "# COMPUTING THE PAGERANK OF THE NODES OF THE GRAPH G:\n",
    "# a = alpha coefficient\n",
    "# e = maximum difference beetween an iteration's ranking and its precendent's one to approve convergence\n",
    "# mi = maximum number of iterations to be done\n",
    "\n",
    "def page_ranking(G, a, e=0, mi=200):\n",
    "\n",
    "    print(\"Computing the PageRank of the given graph with alpha coefficient \", a, \":\", sep='', end=' ')\n",
    "    \n",
    "    # Variables initialization\n",
    "    N = len(G.nodes()) #number of nodes\n",
    "    R = {n:1/N for n in G.nodes()} #current iteration's rankings\n",
    "    Rprec = {n:0 for n in G.nodes()} #previous iteration's rankings\n",
    "    nostop = True #flag for stopping when the convergence is reached\n",
    "    iterations = 0 #current iteration's number\n",
    "    kout = {n:G.out_degree(n) for n in G.nodes()} #dictionary with all the out degrees\n",
    "    L = [] #list that will contain all the nodes with no out-connection\n",
    "    sum_PageRanks = [] #list that will contain the sum of the PageRank scores at each iteration\n",
    "    \n",
    "    # Filling the list of all the nodes with no out-connection\n",
    "    for n in G.nodes():\n",
    "        if kout[n] == 0:\n",
    "            L.append(n)\n",
    "    L = [n for n in G.nodes() if kout[n]==0]\n",
    "    # Iterating PageRank\n",
    "    while nostop and (iterations < mi):\n",
    "        \n",
    "        iterations += 1\n",
    "        \n",
    "        Rprec = R.copy()\n",
    "        \n",
    "        # Second sum's value calculation\n",
    "        sigma2 = 0\n",
    "        for n in L:\n",
    "            sigma2 += Rprec[n]\n",
    "        sigma2 = sigma2/N\n",
    "        \n",
    "        # First sum's value calculation for each node\n",
    "        sigma = {n:0 for n in G.nodes()}\n",
    "        for u,v in G.edges():\n",
    "            sigma[v] += Rprec[u]/kout[u]\n",
    "            \n",
    "        # Ranking calculation for each node\n",
    "        for n in G.nodes():\n",
    "            R[n] = (a/N) + ((1-a)*(sigma[n]+sigma2))\n",
    "        \n",
    "        # Verifying that the sum of the PageRank scores at each iteration is equal to 1\n",
    "        sum_PageRanks.append(sum(R.values()))\n",
    "        \n",
    "        # Convergence verification\n",
    "        nostop = False\n",
    "        for n in G.nodes():\n",
    "            if not(-e < Rprec[n]-R[n] < e):\n",
    "                nostop = True\n",
    "                break\n",
    "    \n",
    "    print(\"Done!\")\n",
    "    \n",
    "    # Verifying that the sum of the PageRank scores at each iteration is equal to 1\n",
    "    verify = True\n",
    "    for i in sum_PageRanks:\n",
    "        if not 0.999999999999 < i < 1.000000000001:\n",
    "            verify = False\n",
    "            break\n",
    "    if verify:\n",
    "        print(\"The sum the PageRank scores at each iteration is equal to 1\")\n",
    "    else:\n",
    "        print(\"you failed\")\n",
    "\n",
    "    return (R, iterations)"
   ]
  },
  {
   "cell_type": "markdown",
   "id": "74c37f0d",
   "metadata": {},
   "source": [
    "## Computing the nodes' PageRank and comparing it with NetworkX's scores\n",
    "[coding section N°11]"
   ]
  },
  {
   "cell_type": "code",
   "execution_count": 11,
   "id": "898af853",
   "metadata": {
    "scrolled": false
   },
   "outputs": [
    {
     "name": "stdout",
     "output_type": "stream",
     "text": [
      "Computing the PageRank of the given graph with alpha coefficient 0.15: Done!\n",
      "The sum the PageRank scores at each iteration is equal to 1\n",
      "Using an alpha coefficient of 0.15, our function succeded in computing the PageRank scores in 10 iterations, with a maximum error of about 0.0% with respect to the NetworkX-function-calculated values.\n",
      "No mistake was made with respect to the nodes ranking!\n"
     ]
    }
   ],
   "source": [
    "# COMPUTING THE NODES' PAGERANK AND COMPARING IT WITH THE NETWORKX'S SCORES\n",
    "\n",
    "alpha = 0.15 #alpha coefficient to use\n",
    "\n",
    "# Computing the nodes' PageRank with the built-in NetworkX's function and the number of iterations needed\n",
    "nostop = True\n",
    "max_iterations = 0\n",
    "while nostop:\n",
    "    nostop = False\n",
    "    try:\n",
    "        RNX = nx.pagerank(G, alpha = (1-alpha), max_iter = max_iterations+1)\n",
    "    except:\n",
    "        nostop = True\n",
    "    max_iterations += 1\n",
    "    \n",
    "# Computing the nodes' PageRank with our function\n",
    "R, iterations = page_ranking(G, alpha, mi = max_iterations)\n",
    "\n",
    "# Comparing results with relative error\n",
    "max_error = 0\n",
    "for n in G.nodes:\n",
    "    error = abs(R[n]-RNX[n]) / RNX[n]\n",
    "    if error > max_error:\n",
    "        max_error = error\n",
    "\n",
    "# Keeping a verified copy of the rankings\n",
    "RV = R.copy()\n",
    "RNXV = RNX.copy()\n",
    "\n",
    "# Comparing the two PageRank results for error detection\n",
    "mistake = False\n",
    "for n in range (N):\n",
    "    if max(R, key = R.get) != max(RNX, key = RNX.get):\n",
    "        mistake = True\n",
    "    del R[max(R, key = R.get)]\n",
    "    del RNX[max(RNX, key = RNX.get)]\n",
    "    \n",
    "# Returning the comparison's results\n",
    "print(\"Using an alpha coefficient of \", alpha, \", our function succeded in computing the PageRank scores in \", iterations, \" iterations, with a maximum error of about \", round(max_error,2)*100, \"% with respect to the NetworkX-function-calculated values.\", sep='')\n",
    "if mistake == False:\n",
    "    print(\"No mistake was made with respect to the nodes ranking!\")"
   ]
  },
  {
   "cell_type": "markdown",
   "id": "26616f28",
   "metadata": {},
   "source": [
    "## Returning the node with the highest PageRank value\n",
    "[coding section N°12]"
   ]
  },
  {
   "cell_type": "code",
   "execution_count": 12,
   "id": "98a45a93",
   "metadata": {
    "scrolled": false
   },
   "outputs": [
    {
     "name": "stdout",
     "output_type": "stream",
     "text": [
      "The node with the highest PageRank value (0.01884460817586186) is: 155\n"
     ]
    }
   ],
   "source": [
    "# RETURNING THE NODE WITH THE HIGHEST PAGERANK VALUE\n",
    "\n",
    "Rmax = max(RV.values())\n",
    "nRmax = max(RV, key = RV.get)\n",
    "print(\"The node with the highest PageRank value (\", Rmax, \") is: \", nRmax, sep='')"
   ]
  },
  {
   "cell_type": "markdown",
   "id": "9752d41e",
   "metadata": {},
   "source": [
    "## Computing and drawing the PageRank cumulative distribution\n",
    "[coding section N°13]"
   ]
  },
  {
   "cell_type": "code",
   "execution_count": 13,
   "id": "c373382f",
   "metadata": {
    "scrolled": true
   },
   "outputs": [
    {
     "name": "stdout",
     "output_type": "stream",
     "text": [
      "Computing the cumulative distribution of the rankings:\n"
     ]
    },
    {
     "data": {
      "text/plain": [
       "[<matplotlib.lines.Line2D at 0x7f8e7abaaa90>]"
      ]
     },
     "execution_count": 13,
     "metadata": {},
     "output_type": "execute_result"
    },
    {
     "data": {
      "image/png": "[encoded data removed]",
      "text/plain": [
       "<Figure size 640x480 with 1 Axes>"
      ]
     },
     "metadata": {},
     "output_type": "display_data"
    }
   ],
   "source": [
    "# COMPUTING AND DRAWING THE PAGERANK CUMULATIVE DISTRIBUTION\n",
    "\n",
    "print(\"Computing the cumulative distribution of the rankings:\")\n",
    "\n",
    "RVL = list(RV.values())\n",
    "\n",
    "%matplotlib inline\n",
    "\n",
    "cdf_x = [] # list of x-axis\n",
    "cdf_y = [] # list of y-axis\n",
    "RVL_copy = RVL.copy()\n",
    "N_temp = N # N_temp will represent the remaining number of nodes above the current x\n",
    "while RVL_copy:\n",
    "    current_min = min(RVL_copy) # gives the current x-axis value\n",
    "    current_num = RVL_copy.count(current_min) # gives how many nodes will disappear when goin through the current x-axis value\n",
    "    cdf_x.append(current_min) #\n",
    "    cdf_y.append(N_temp) #\n",
    "    N_temp = N_temp - current_num \n",
    "    for n in range(current_num): \n",
    "        RVL_copy.remove(current_min) \n",
    "\n",
    "# Plotting\n",
    "plt.xlabel('PageRank')\n",
    "plt.ylabel('frequency of nodes')\n",
    "plt.title('CDF of Page Rank distribution for alpha = 0.15')\n",
    "plt.plot(cdf_x,cdf_y)"
   ]
  },
  {
   "cell_type": "markdown",
   "id": "fdf70ca6",
   "metadata": {},
   "source": [
    "## Re-running the PageRank function using another alpha coefficient\n",
    "[coding section N°14]"
   ]
  },
  {
   "cell_type": "code",
   "execution_count": 14,
   "id": "2e7c3061",
   "metadata": {
    "scrolled": false
   },
   "outputs": [
    {
     "name": "stdout",
     "output_type": "stream",
     "text": [
      "Computing the PageRank of the given graph with alpha coefficient 0.5: Done!\n",
      "The sum the PageRank scores at each iteration is equal to 1\n",
      "This time, 5 iterations were necessary\n",
      "Computing the cumulative distribution of the second rankings:\n"
     ]
    },
    {
     "data": {
      "text/plain": [
       "[<matplotlib.lines.Line2D at 0x7f8e58cc1b50>]"
      ]
     },
     "execution_count": 14,
     "metadata": {},
     "output_type": "execute_result"
    },
    {
     "data": {
      "image/png": "[encoded data removed]",
      "text/plain": [
       "<Figure size 640x480 with 1 Axes>"
      ]
     },
     "metadata": {},
     "output_type": "display_data"
    }
   ],
   "source": [
    "# COMPUTING THE NODES' PAGERANK WITH ANOTHER ALPHA COEFFICIENT\n",
    "\n",
    "alpha = 0.5 #alpha coefficient to use\n",
    "\n",
    "# Computing the nodes' PageRank with the built-in NetworkX's function\n",
    "nostop = True\n",
    "max_iterations = 0\n",
    "while nostop:\n",
    "    nostop = False\n",
    "    try:\n",
    "        RNXV2 = nx.pagerank(G, alpha=(1-alpha), max_iter=max_iterations+1)\n",
    "    except:\n",
    "        nostop = True\n",
    "    max_iterations += 1\n",
    "    \n",
    "# Computing the nodes' PageRank with our function\n",
    "RV2, iterations2 = page_ranking(G, alpha, mi = max_iterations)\n",
    "\n",
    "print(\"This time,\", iterations2, \"iterations were necessary\")\n",
    "\n",
    "\n",
    "# COMPUTING AND DRAWING THE SECOND PAGERANK CUMULATIVE DISTRIBUTION\n",
    "\n",
    "print(\"Computing the cumulative distribution of the second rankings:\")\n",
    "\n",
    "RVL2 = list(RV2.values())\n",
    "\n",
    "%matplotlib inline\n",
    "\n",
    "cdf_x = [] # list of x-axis\n",
    "cdf_y = [] # list of y-axis\n",
    "RVL2_copy = RVL2.copy()\n",
    "N_temp = N # N_temp will represent the remaining number of nodes above the current x\n",
    "while RVL2_copy:\n",
    "    current_min = min(RVL2_copy) # gives the current x-axis value\n",
    "    current_num = RVL2_copy.count(current_min) # gives how many nodes will disappear when goin through the current x-axis value\n",
    "    cdf_x.append(current_min) #\n",
    "    cdf_y.append(N_temp) #\n",
    "    N_temp = N_temp - current_num \n",
    "    for n in range(current_num): \n",
    "        RVL2_copy.remove(current_min) \n",
    "\n",
    "# Plotting\n",
    "plt.xlabel('PageRank')\n",
    "plt.ylabel('frequency of nodes')\n",
    "plt.title('CDF of Page Rank distribution for alpha = 0.5')\n",
    "plt.plot(cdf_x,cdf_y)"
   ]
  },
  {
   "cell_type": "markdown",
   "id": "5b2007a9",
   "metadata": {},
   "source": [
    "## Analysis"
   ]
  },
  {
   "cell_type": "markdown",
   "id": "cc9fbdd2",
   "metadata": {},
   "source": [
    "The node which showed the highest PageRank is the node 155, which is different from the node 855, which was the node with the higher decay centrality. This difference is due to the fact that PageRank algotithm gives more importance with the nodes which presents a higher in-degree. The two Cumulative Distribution Functions appears in fact to be different: PageRank's CDF appears to be more squeezed, while Decay Centrality CDF is more skewed. \n",
    "\n",
    "We tested our PageRank function twice, with different alpha coefficient. While the number of iteration changed significantly (it has halved), the two CDF appear to be very similar."
   ]
  },
  {
   "cell_type": "markdown",
   "id": "fc0bef4e",
   "metadata": {},
   "source": [
    "## Week 6: Communities"
   ]
  },
  {
   "cell_type": "markdown",
   "id": "f6d5389e",
   "metadata": {},
   "source": [
    "## Code explanation\n",
    "[coding sections N°15,16,17,18,19,20]"
   ]
  },
  {
   "cell_type": "markdown",
   "id": "8462b2e5",
   "metadata": {},
   "source": [
    "For the analysis of the communities we had to reduce the graph to a smaller component, obtained by extracting the largest connected component of the graph and subsequently working on the core of it for computational reasons.\n",
    "\n",
    "We implemented each of the requested community detection techniques and computed the computational time, the modularity, the number of detected clusters, the cluster size distribution and the partition quality for each of them. Afterwards, we compared the three different algorithms (in pairs) with the Normalized Mutual Information. \n",
    "\n",
    "Finally, we provided a visualization of the detected clusters of the studied subgraph basing on the algorithm we considered more approppriate (see the analysis below for futher explanation of why): the Girvan-Newman algorithm (bridge removal technique). "
   ]
  },
  {
   "cell_type": "markdown",
   "id": "dfbb9869",
   "metadata": {},
   "source": [
    "## Transforming the graph as undirected and extracting the core of its largest connected component\n",
    "[coding section N°15]"
   ]
  },
  {
   "cell_type": "code",
   "execution_count": 15,
   "id": "17bc144e",
   "metadata": {
    "pycharm": {
     "name": "#%%\n"
    }
   },
   "outputs": [
    {
     "name": "stdout",
     "output_type": "stream",
     "text": [
      "The number of nodes of the subgraph is: 98\n"
     ]
    }
   ],
   "source": [
    "U = G.to_undirected() # transforming the graph into an undirected and unweighted graph\n",
    "U.remove_edges_from(nx.selfloop_edges(U)) #removing self loops\n",
    "LCCNodes =  list(max(nx.connected_components(U), key=len)) #considering the largest connected component\n",
    "LCC = U.subgraph(LCCNodes)\n",
    "G2 = nx.k_core(LCC, 34) #considering the core of the largest connected component\n",
    "print(\"The number of nodes of the subgraph is:\", G2.number_of_nodes())"
   ]
  },
  {
   "cell_type": "markdown",
   "id": "ce390621",
   "metadata": {
    "pycharm": {
     "name": "#%% md\n"
    }
   },
   "source": [
    "## Implementing the technique of bridge removal for community detection\n",
    "[coding section N°16]"
   ]
  },
  {
   "cell_type": "code",
   "execution_count": 16,
   "id": "1d9decf3",
   "metadata": {
    "pycharm": {
     "name": "#%%\n"
    }
   },
   "outputs": [
    {
     "name": "stdout",
     "output_type": "stream",
     "text": [
      "Girvan-Newman algorithm for bridge removal technique\n",
      "The execution time is: 3.790855407714844e-05\n"
     ]
    },
    {
     "data": {
      "application/vnd.jupyter.widget-view+json": {
       "model_id": "3e2730f274174ffcbe43b474ee021939",
       "version_major": 2,
       "version_minor": 0
      },
      "text/plain": [
       "Advancement of modularity computation:   0%|          | 0/97 [00:00<?, ?it/s]"
      ]
     },
     "metadata": {},
     "output_type": "display_data"
    },
    {
     "name": "stdout",
     "output_type": "stream",
     "text": [
      "The modularity of the detected partition is: 0.0016458674882695297\n",
      "The number of detected clusters is: 21\n",
      "The cluster size distribution is: [78, 1, 1, 1, 1, 1, 1, 1, 1, 1, 1, 1, 1, 1, 1, 1, 1, 1, 1, 1, 1]\n",
      "The coverage of the detected partition is: 0.7447368421052631\n",
      "The performance of the detected partition is: 0.6421207658321061\n"
     ]
    }
   ],
   "source": [
    "# Girvan-Newman algorithm\n",
    "print(\"Girvan-Newman algorithm for bridge removal technique\")\n",
    "start_time = time.time()\n",
    "GN_Partitions = nx.community.girvan_newman(G2)\n",
    "end_time = time.time()\n",
    "GN_time = end_time - start_time\n",
    "print(\"The execution time is:\", GN_time) \n",
    "\n",
    "# computing each partition's modularity\n",
    "GN_max_modularity = -1\n",
    "\n",
    "for partition in tqdm(GN_Partitions, total = G2.number_of_nodes()-1, desc = 'Advancement of modularity computation'):\n",
    "    modularity = nx.community.quality.modularity(G2, partition)\n",
    "    if modularity >= GN_max_modularity: \n",
    "        GN_max_modularity = modularity #taking the partition with the highest modularity\n",
    "        GN_max_modularity_partition = partition\n",
    "        \n",
    "GN_max_modularity_partition = [frozenset(x) for x in GN_max_modularity_partition]\n",
    "print(\"The modularity of the detected partition is:\", GN_max_modularity)\n",
    "\n",
    "# computing the number of detected clusters\n",
    "GN_Nclusters = len(GN_max_modularity_partition)\n",
    "print(\"The number of detected clusters is:\", GN_Nclusters)\n",
    "\n",
    "# computing the cluster size distribution\n",
    "GN_cluster_sizes = []\n",
    "for cluster in GN_max_modularity_partition:\n",
    "    GN_cluster_sizes.append(len(cluster))\n",
    "print(\"The cluster size distribution is:\", GN_cluster_sizes)  \n",
    "\n",
    "#NMI\n",
    "GN_partition_map = []\n",
    "GN_partition_map2 = {} \n",
    "\n",
    "for j, nodes in enumerate(GN_max_modularity_partition):\n",
    "    for i in range(len(nodes)):\n",
    "        GN_partition_map.append(j)\n",
    "    for node in nodes:\n",
    "        GN_partition_map2[node] = j    \n",
    "\n",
    "#Partition Quality\n",
    "GN_partition_quality = q.partition_quality(G2, GN_max_modularity_partition)\n",
    "print(\"The coverage of the detected partition is:\", GN_partition_quality[0])\n",
    "print(\"The performance of the detected partition is:\", GN_partition_quality[1])"
   ]
  },
  {
   "cell_type": "markdown",
   "id": "acef7dd4",
   "metadata": {},
   "source": [
    "## Implementing the technique of modularity optimization for community detection\n",
    "[coding section N°17]"
   ]
  },
  {
   "cell_type": "code",
   "execution_count": 17,
   "id": "76fc06bb",
   "metadata": {},
   "outputs": [
    {
     "name": "stdout",
     "output_type": "stream",
     "text": [
      "Modularity algorithm technique\n",
      "The execution time is: 0.07703495025634766\n",
      "The modularity of the detected partition is: 0.062446930295664005\n",
      "The number of detected clusters is: 3\n",
      "The cluster size distribution is: [43, 40, 15]\n",
      "The coverage of the detected partition is: 0.44360902255639095\n",
      "The performance of the detected partition is: 0.5606985062066063\n"
     ]
    }
   ],
   "source": [
    "# Modularity algorithm\n",
    "print(\"Modularity algorithm technique\")\n",
    "start_time = time.time()\n",
    "Mod_Partition = nx.community.greedy_modularity_communities(G2)\n",
    "end_time = time.time()\n",
    "Mod_time = end_time - start_time\n",
    "print(\"The execution time is:\", Mod_time) \n",
    "\n",
    "# modularity\n",
    "Mod_modularity = nxc.modularity(G2, Mod_Partition)\n",
    "print(\"The modularity of the detected partition is:\", Mod_modularity)\n",
    "\n",
    "# computing the number of detected clusters\n",
    "Mod_Nclusters = len(Mod_Partition)\n",
    "print(\"The number of detected clusters is:\", Mod_Nclusters)\n",
    "\n",
    "# computing the cluster size distribution\n",
    "Mod_cluster_sizes = []\n",
    "for cluster in Mod_Partition:\n",
    "    Mod_cluster_sizes.append(len(cluster))\n",
    "print(\"The cluster size distribution is:\", Mod_cluster_sizes)\n",
    "\n",
    "#NMI\n",
    "Mod_partition_map = []\n",
    "Mod_partition_map2 = {}\n",
    "\n",
    "for j, nodes in enumerate(Mod_Partition):\n",
    "    for i in range(len(nodes)):\n",
    "        Mod_partition_map.append(j)\n",
    "    for node in nodes:\n",
    "        Mod_partition_map2[node] = j\n",
    "\n",
    "#Partition Quality\n",
    "Mod_partition_quality = q.partition_quality(G2, Mod_Partition)\n",
    "print(\"The coverage of the detected partition is:\", Mod_partition_quality[0])\n",
    "print(\"The performance of the detected partition is:\", Mod_partition_quality[1])"
   ]
  },
  {
   "cell_type": "markdown",
   "id": "e22ce11b",
   "metadata": {},
   "source": [
    "## Implementing the technique of label propagation for community detection\n",
    "[coding section N°18]"
   ]
  },
  {
   "cell_type": "code",
   "execution_count": 18,
   "id": "83fff117",
   "metadata": {},
   "outputs": [
    {
     "name": "stdout",
     "output_type": "stream",
     "text": [
      "Label propagation technique\n",
      "The execution time is: 0.0002357959747314453\n",
      "The modularity of the detected partition is: 1.1102230246251565e-16\n",
      "The number of detected clusters is: 1\n",
      "The cluster size distribution is: [98]\n",
      "The coverage of the detected partition is: 1.0\n",
      "The performance of the detected partition is: 0.5596465390279823\n"
     ]
    }
   ],
   "source": [
    "# Label propagation\n",
    "print(\"Label propagation technique\")\n",
    "start_time = time.time()\n",
    "LP_Communities = nx.community.asyn_lpa_communities(G2) # with different seeds, results do not change\n",
    "end_time = time.time()\n",
    "LP_time = end_time - start_time\n",
    "print(\"The execution time is:\", LP_time) \n",
    "\n",
    "LP_Partition = [frozenset(c) for c in LP_Communities]\n",
    "\n",
    "# modularity\n",
    "LP_modularity = nxc.modularity(G2, LP_Partition)\n",
    "print(\"The modularity of the detected partition is:\", LP_modularity)\n",
    "\n",
    "# computing the number of detected clusters\n",
    "LP_Nclusters = len(LP_Partition)\n",
    "print(\"The number of detected clusters is:\", LP_Nclusters)\n",
    "\n",
    "# computing the cluster size distribution\n",
    "LP_cluster_sizes = []\n",
    "for cluster in LP_Partition:\n",
    "    LP_cluster_sizes.append(len(cluster))\n",
    "print(\"The cluster size distribution is:\", LP_cluster_sizes)  \n",
    "\n",
    "#NMI\n",
    "LP_partition_map = []\n",
    "Lp_partition_map2 = {}\n",
    "for j, nodes in enumerate(LP_Partition):\n",
    "    for i in range(len(nodes)):\n",
    "        LP_partition_map.append(j)\n",
    "    for node in nodes:\n",
    "        Lp_partition_map2[node] = j\n",
    "\n",
    "#Partition Quality\n",
    "LP_partition_quality = q.partition_quality(G2, LP_Partition)\n",
    "print(\"The coverage of the detected partition is:\", LP_partition_quality[0])\n",
    "print(\"The performance of the detected partition is:\", LP_partition_quality[1])"
   ]
  },
  {
   "cell_type": "markdown",
   "id": "be986d3f",
   "metadata": {},
   "source": [
    "## Computing the NMI (Normalized Mutual Information) for each pair of techniques\n",
    "[coding section N°19]"
   ]
  },
  {
   "cell_type": "code",
   "execution_count": 19,
   "id": "1d47516f",
   "metadata": {
    "pycharm": {
     "name": "#%%\n"
    }
   },
   "outputs": [
    {
     "name": "stdout",
     "output_type": "stream",
     "text": [
      "The NMI score between the partitions computed by the Girvan-Newman algorithm and the modularity optimization algorithm is: 0.4381022572941527\n",
      "The NMI score between the partitions computed by the modularity optimization algorithm and the label propagation algorithm is: 8.754990779721536e-16\n",
      "The NMI score between the partitions computed by the Girvan-Newman algorithm and the label propagation algorithm is: 1.2419903489599047e-15\n"
     ]
    }
   ],
   "source": [
    "NMI_GN_Mod = normalized_mutual_info_score(GN_partition_map, Mod_partition_map)\n",
    "NMI_Mod_LP = normalized_mutual_info_score(Mod_partition_map,LP_partition_map)\n",
    "NMI_GN_LP = normalized_mutual_info_score(GN_partition_map,LP_partition_map)\n",
    "\n",
    "print(\"The NMI score between the partitions computed by the Girvan-Newman algorithm and the modularity optimization algorithm is:\", NMI_GN_Mod)\n",
    "print(\"The NMI score between the partitions computed by the modularity optimization algorithm and the label propagation algorithm is:\", NMI_Mod_LP)\n",
    "print(\"The NMI score between the partitions computed by the Girvan-Newman algorithm and the label propagation algorithm is:\", NMI_GN_LP)"
   ]
  },
  {
   "cell_type": "markdown",
   "id": "4c655e86",
   "metadata": {
    "pycharm": {
     "name": "#%% md\n"
    }
   },
   "source": [
    "## Comparing the results of each technique and analyze the differences and similarities among the three resulting partitions "
   ]
  },
  {
   "cell_type": "markdown",
   "id": "8ac43657",
   "metadata": {},
   "source": [
    "The computational time for each method is:\n",
    "- circa 0.10 ms for the Girvan-Newman technique\n",
    "- circa 93.5 ms for the modularity optimization technique\n",
    "- circa 0.15 ms for the label propagation technique\n",
    "\n",
    "Therefore, in general the fastest algorithm to obtain the partitioning is the Girvan-Newman technique.\n",
    "\n",
    "The modularity for the detected partition of each method is:\n",
    "- 1e-3 for the Girvan-Newman technique\n",
    "- 6e-2 for the modularity optimization technique\n",
    "- 1e-16 for the label propagation technique\n",
    "\n",
    "Since the modularity computes the difference between the number of internal links in a community and the expected value of this number in a set of randomised networks, the best partition is probably always obtained by the modularity optimization technique where the number of internal links is much larger than its expected random value.\n",
    "\n",
    "The number of detected clusters for the detected partition of each method is\n",
    "- 21 for the Girvan-Newman technique\n",
    "- 3 for the modularity optimization technique\n",
    "- 1 for the label propagation technique\n",
    "\n",
    "The cluster size distribution for the detected partition of each method is:\n",
    "- [78, 1, 1, 1, 1, 1, 1, 1, 1, 1, 1, 1, 1, 1, 1, 1, 1, 1, 1, 1, 1] for the Girvan-Newman technique\n",
    "- [43, 40, 15] for the modularity optimization technique\n",
    "- [98] for the label propagation technique\n",
    "\n",
    "Following the number of detected clusters and the cluster size distribution, the best partition is probably usually obtained by the modularity optimization technique, that detected the most balanced clusters.\n",
    "\n",
    "The coverage of the detected partition for each method is:\n",
    "- 7e-1 for the Girvan-Newman technique\n",
    "- 4e-1 for the modularity optimization technique\n",
    "- 1 for the label propagation technique\n",
    "\n",
    "Since the coverage of a partition is the ratio of the number of intra-community edges to the total number of edges in the graph, following this parameter the best partition would be the label propagation technique.\n",
    "\n",
    "The performance of the detected partition for each method is:\n",
    "- 6e-1 for the Girvan-Newman technique\n",
    "- 6e-1 for the modularity optimization technique\n",
    "- 6e-1 for the label propagation technique\n",
    "\n",
    "Since the performance of a partition is the number of intra-community edges plus inter-community non-edges divided by the total number of potential edges, following this parameter the three techniques are almost equally valid.\n",
    "\n",
    "Comparing all these different parameters, we decided to consider as the best partitioning algorithm for our subgraph the modularity optimization one."
   ]
  },
  {
   "cell_type": "markdown",
   "id": "782729d7",
   "metadata": {},
   "source": [
    "## Visualization of the detected clusters basing on the modularity optimization algorithm for bridge removal technique \n",
    "[coding section N°20]"
   ]
  },
  {
   "cell_type": "code",
   "execution_count": 20,
   "id": "ce3c7008",
   "metadata": {},
   "outputs": [],
   "source": [
    "# Assigning colors to each group\n",
    "node_colors = [Mod_partition_map2[node] for node in G2.nodes]\n",
    "\n",
    "nx.write_gexf(G2, \"LCC_core.gexf\") # saving the graph in a gephi file\n",
    "\n",
    "# we applied the modularuty partitioning algorithm in gephi\n",
    "# below the result"
   ]
  },
  {
   "cell_type": "markdown",
   "id": "56732bef",
   "metadata": {},
   "source": [
    "<img src=\"LCC core modularity visualization.png\" alt=\"LCC core modularity visualization\" />"
   ]
  },
  {
   "cell_type": "markdown",
   "id": "4f7b1e08",
   "metadata": {},
   "source": [
    "# WEEK 7: Random Network Models"
   ]
  },
  {
   "cell_type": "markdown",
   "id": "222d7d8b",
   "metadata": {},
   "source": [
    "## Code explanation\n",
    "[coding sections N°21,22,23,24]"
   ]
  },
  {
   "cell_type": "markdown",
   "id": "89588318",
   "metadata": {},
   "source": [
    "We treated again our graph as undirected and unweighted, and worked on the core of the resulting largest connected component.\n",
    "We computed the topological local similarity indices for the unconnected node-pairs of the analyzed subgraph:\n",
    "- Common Neighbour Index (CN),\n",
    "- Jaccard Index (JI),\n",
    "- Preferential Attachment Index (PA),\n",
    "- Adamic-Adar Index (AA),\n",
    "- Resource Allocation Index (RA),\n",
    "We then computed the mean of the normalized indices for each node-pair.\n",
    "We then computed the topological global similarity index Katz Index (KI).\n",
    "Finally, we compared all the results and, basing on the link likelihood score, we identified as missing links the 10 node-pairs yielding the largest values."
   ]
  },
  {
   "cell_type": "markdown",
   "id": "fc5a9ca4",
   "metadata": {},
   "source": [
    "## Implementing a function to compute the topological similarity indices: CN, JI, PA, AA, RA\n",
    "[coding section N°21]"
   ]
  },
  {
   "cell_type": "code",
   "execution_count": 21,
   "id": "34bf4471",
   "metadata": {},
   "outputs": [],
   "source": [
    "# LOCAL TOPOLOGICAL SIMILARITY INDICES COMPUTATION\n",
    "\n",
    "def TL_similarity_indices(G, sim_indices = ['CN', 'JI', 'PA', 'AA', 'RA']):\n",
    "    \n",
    "    Indices_DataFrame = pd.DataFrame()\n",
    "    \n",
    "    not_an_edge = []\n",
    "    for u in G.nodes():\n",
    "        for v in G.nodes():\n",
    "            if (u,v) not in G.edges() and u != v and (v,u) not in not_an_edge:\n",
    "                not_an_edge.append((u,v))\n",
    "    Indices_DataFrame['Unconnected nodes'] = not_an_edge\n",
    "    \n",
    "    # Common Neighbour Index computation\n",
    "    if 'CN' in sim_indices:\n",
    "        CN_wip = list(nx.common_neighbor_centrality(G))\n",
    "        CN = []\n",
    "        for u,v in not_an_edge:\n",
    "            CN.append([i[2] for i in CN_wip if i[0] == u and i[1] == v][0])\n",
    "        Indices_DataFrame['CN'] = CN\n",
    "    \n",
    "    # Jaccard Index computation\n",
    "    if 'JI' in sim_indices:\n",
    "        JI_wip = list(nx.jaccard_coefficient(G))\n",
    "        JI = []\n",
    "        for u,v in not_an_edge:\n",
    "            JI.append([i[2] for i in JI_wip if i[0] == u and i[1] == v][0])\n",
    "        Indices_DataFrame['JI'] = JI\n",
    "    \n",
    "    # Preferential Attachment Index computation\n",
    "    if 'PA' in sim_indices:\n",
    "        PA_wip = list(nx.preferential_attachment(G))\n",
    "        PA = []\n",
    "        for u,v in not_an_edge:\n",
    "            PA.append([i[2] for i in PA_wip if i[0] == u and i[1] == v][0])\n",
    "        Indices_DataFrame['PA'] = PA\n",
    "\n",
    "    # Adamic-Adar Index computation\n",
    "    if 'AA' in sim_indices:\n",
    "        AA_wip = list(nx.adamic_adar_index(G))\n",
    "        AA = []\n",
    "        for u,v in not_an_edge:\n",
    "            AA.append([i[2] for i in AA_wip if i[0] == u and i[1] == v][0])\n",
    "        Indices_DataFrame['AA'] = AA\n",
    "    \n",
    "    # Resource Allocation Index computation\n",
    "    if 'RA' in sim_indices:\n",
    "        RA_wip = list(nx.resource_allocation_index(G))\n",
    "        RA = []\n",
    "        for u,v in not_an_edge:\n",
    "            RA.append([i[2] for i in RA_wip if i[0] == u and i[1] == v][0])\n",
    "        Indices_DataFrame['RA'] = RA\n",
    "            \n",
    "    Indices_DataFrame.set_index('Unconnected nodes', inplace=True)\n",
    "        \n",
    "    return Indices_DataFrame\n",
    "\n",
    "# FUNCTION CALL\n",
    "List_of_indices = ['CN', 'JI', 'PA', 'AA', 'RA']\n",
    "Indices_DataFrame = TL_similarity_indices(G2, List_of_indices)"
   ]
  },
  {
   "cell_type": "markdown",
   "id": "d8f51734",
   "metadata": {},
   "source": [
    "## Computing the six link likelihood scores (one for each of the five indices, and one obtained as the arithmetic mean of the indices)\n",
    "[coding section N°22]"
   ]
  },
  {
   "cell_type": "code",
   "execution_count": 22,
   "id": "6b804a18",
   "metadata": {},
   "outputs": [
    {
     "name": "stdout",
     "output_type": "stream",
     "text": [
      "Below the dataframe containing the link likelihood scores of each index for each disconnected node-pair\n",
      "                     CN        JI    PA         AA        RA      mean\n",
      "Unconnected nodes                                                     \n",
      "(512, 23)          35.4  0.380952  2880   7.853816  0.553281  0.371696\n",
      "(512, 46)          41.0  0.464286  3440   9.583854  0.676941  0.489041\n",
      "(512, 559)         36.2  0.407407  2720   8.086955  0.568279  0.382366\n",
      "(512, 56)          63.4  0.817073  5520  16.791215  1.260443  0.977434\n",
      "(512, 75)          53.8  0.654762  4720  13.768308  1.030544  0.773020\n",
      "...                 ...       ...   ...        ...       ...       ...\n",
      "(483, 495)         33.8  0.461538  2244   7.274903  0.493367  0.344362\n",
      "(489, 493)         42.6  0.476744  3922  10.022200  0.699018  0.529161\n",
      "(489, 495)         31.4  0.385714  2332   6.505164  0.432175  0.293624\n",
      "(492, 495)         33.0  0.367089  2816   6.974188  0.460123  0.326035\n",
      "(493, 495)         40.2  0.475000  3256   9.371871  0.672786  0.477665\n",
      "\n",
      "[2093 rows x 6 columns]\n"
     ]
    }
   ],
   "source": [
    "# function that normalize the values of the list that is given as input\n",
    "def rescale(L):\n",
    "    L_min = min(L)\n",
    "    L_max = max(L)\n",
    "    for i in range(len(L)):\n",
    "        L[i] = (L[i] - L_min) / (L_max - L_min)\n",
    "    return L\n",
    "        \n",
    "Rescaled_Indices_DataFrame = pd.DataFrame()\n",
    "Rescaled_Indices_DataFrame['Unconnected nodes'] = list(Indices_DataFrame.index.values)\n",
    "\n",
    "# function call for each similarity index\n",
    "for i in List_of_indices:\n",
    "    Rescaled_Indices_DataFrame[i] = rescale(list(Indices_DataFrame[i]))\n",
    "\n",
    "Rescaled_Indices_DataFrame.set_index('Unconnected nodes', inplace=True)\n",
    "\n",
    "# computing the similarity index that is the mean of the others\n",
    "mean = Rescaled_Indices_DataFrame.aggregate(np.mean, axis = 1)\n",
    "\n",
    "Indices_DataFrame['mean'] = mean\n",
    "\n",
    "print(\"Below the dataframe containing the link likelihood scores of each index for each disconnected node-pair\")\n",
    "print(Indices_DataFrame)"
   ]
  },
  {
   "cell_type": "markdown",
   "id": "4f0a1c7e",
   "metadata": {},
   "source": [
    "## Identifying the top 10 links that are predicted to be missing for each index\n",
    "[coding section N°23]"
   ]
  },
  {
   "cell_type": "code",
   "execution_count": 23,
   "id": "f6a830c2",
   "metadata": {},
   "outputs": [
    {
     "name": "stdout",
     "output_type": "stream",
     "text": [
      "The top 10 missing links for the CN index are:\n",
      "[(512, 56), (512, 618), (535, 644), (118, 417), (644, 387), (144, 454), (56, 72), (56, 618), (547, 641), (641, 405)]\n",
      "The top 10 missing links for the JI index are:\n",
      "[(512, 56), (512, 618), (118, 417), (56, 618), (144, 454), (535, 644), (641, 405), (56, 72), (644, 387), (512, 75)]\n",
      "The top 10 missing links for the PA index are:\n",
      "[(535, 644), (644, 387), (512, 56), (56, 729), (512, 618), (189, 387), (144, 454), (56, 72), (547, 641), (155, 756)]\n",
      "The top 10 missing links for the AA index are:\n",
      "[(512, 56), (512, 618), (535, 644), (118, 417), (644, 387), (144, 454), (56, 72), (56, 618), (641, 405), (547, 641)]\n",
      "The top 10 missing links for the RA index are:\n",
      "[(512, 56), (512, 618), (535, 644), (644, 387), (144, 454), (118, 417), (56, 618), (56, 72), (512, 75), (180, 323)]\n",
      "The top 10 missing links for the mean index are:\n",
      "[(512, 56), (512, 618), (535, 644), (118, 417), (644, 387), (144, 454), (56, 72), (56, 618), (547, 641), (641, 405)]\n"
     ]
    }
   ],
   "source": [
    "List_of_indices.append(\"mean\")\n",
    "predicted_missing_links = {} # dictionary that will contain the name of indices as key and the\n",
    "                             # top 10 links that are predicted to be missing for each index as value\n",
    "\n",
    "for index in List_of_indices: # iterating over the different indices\n",
    "    predicted_missing_links[index] = []\n",
    "    L = list(Indices_DataFrame[index])\n",
    "    for j in range(10): #taking the 10 highest values for the current similarity index\n",
    "        index_max = L.index(max(L))\n",
    "        L[index_max] = -1\n",
    "        predicted_missing_links[index].append(list(Indices_DataFrame.index.values)[index_max])\n",
    "\n",
    "for k, v in predicted_missing_links.items():\n",
    "    print(\"The top 10 missing links for the\", k, \"index are:\")\n",
    "    print(v)"
   ]
  },
  {
   "cell_type": "markdown",
   "id": "3bf036f6",
   "metadata": {},
   "source": [
    "## Building a function to compute the Katz Index\n",
    "[coding section N°24]"
   ]
  },
  {
   "cell_type": "code",
   "execution_count": 24,
   "id": "f43dab3e",
   "metadata": {},
   "outputs": [
    {
     "name": "stdout",
     "output_type": "stream",
     "text": [
      "The top 10 missing links for the Katz Index are: [(535, 644), (512, 56), (512, 618), (644, 387), (144, 454), (118, 417), (56, 72), (56, 729), (547, 641), (189, 387)]\n"
     ]
    }
   ],
   "source": [
    "# GLOBAL TOPOLOGICAL SIMILARITY INDEX \"KATZ INDEX\" COMPUTATION\n",
    "\n",
    "def KI_calculator(G, max_l = 10, beta = 0.01):\n",
    "    \n",
    "    not_an_edge = []\n",
    "    for u in G.nodes():\n",
    "        for v in G.nodes():\n",
    "            if (u,v) not in G.edges() and u != v and (v,u) not in not_an_edge:\n",
    "                not_an_edge.append((u,v))\n",
    "    \n",
    "    #computing the distance matrices\n",
    "    Matrices = []\n",
    "    ordered_nodes = sorted(G.nodes())\n",
    "    adjacency_matrix = nx.to_scipy_sparse_array(G, ordered_nodes)\n",
    "    Matrices.append(adjacency_matrix)\n",
    "    \n",
    "    M = adjacency_matrix\n",
    "    for i in range(max_l-1):\n",
    "        M = M @ adjacency_matrix\n",
    "        Matrices.append(M)\n",
    "\n",
    "    KI = {}\n",
    "    for missing_link in not_an_edge:\n",
    "        KI_temp = 0\n",
    "        for i in range(len(Matrices)):\n",
    "            KI_temp += Matrices[i][ordered_nodes.index(missing_link[0]), ordered_nodes.index(missing_link[1])] * (beta**(i+1))\n",
    "        KI[missing_link] = KI_temp\n",
    "        \n",
    "    return KI\n",
    "\n",
    "KI = KI_calculator(G2)\n",
    "\n",
    "predicted_missing_links[\"KI\"] = []\n",
    "for j in range(10):\n",
    "    index_max = list(KI.keys())[list(KI.values()).index(max(KI.values()))]\n",
    "    KI[index_max] = -1\n",
    "    predicted_missing_links[\"KI\"].append(index_max)\n",
    "\n",
    "print(\"The top 10 missing links for the Katz Index are:\", predicted_missing_links[\"KI\"])"
   ]
  },
  {
   "cell_type": "markdown",
   "id": "0d3b016d",
   "metadata": {},
   "source": [
    "## Analysis"
   ]
  },
  {
   "cell_type": "markdown",
   "id": "0bc2e142",
   "metadata": {},
   "source": [
    "Analysing the similarity indices that we used considers several definitions of similarity between nodes. It is interesting to notice that all of them agreed in predicting as highly probable missing link the links (512, 56), (512, 618), (144, 454) and (56, 72). The Preferential attachment index did not consideres as probable missing link some links that where instead considered as such by all the other indices; those links are: (535, 644), (644, 387), (118, 417).\n",
    "\n",
    "All the topological indices considered as the two most likely missing links the edges (512, 56) and (512, 618) respectively, while the Katz Index gave to those edges second and third position, classifying as most probable missing link the edge (535, 644)."
   ]
  },
  {
   "cell_type": "markdown",
   "id": "757019ec",
   "metadata": {},
   "source": [
    "# WEEK 9: Random Graph"
   ]
  },
  {
   "cell_type": "markdown",
   "id": "cd5555e4",
   "metadata": {},
   "source": [
    "## Code explanation\n",
    "[coding sections N°25,26]"
   ]
  },
  {
   "cell_type": "markdown",
   "id": "d8572ee7",
   "metadata": {},
   "source": [
    "We structured a random model for the approximation of our graph. The model we elaborated is a variation of the Configuration Model, and considers that the original graph (that needs to be approximated) is directed and it is implemented basing on the in-degree and out-degree distributions of the original graph.\n",
    "\n",
    "In the graphs generated by our model it is extremely unlikely that the number of edges will be exactly the same of the original graph. This is because the model starts by pairing some nodes to others, and this could lead to a configuration that doesn't allow to use all the stubs without repeating some links. That is why at some point, even trying to delete the youngest edges created, the algorithm stops because in order to fix the configuration it could be needed to delet all edges from the beginning. This is the reason why we decided to allow the algorithm to stop when it cannot find an \"easy\" way to create new edges.\n",
    "\n",
    "We then prooved that the model is a good approximation of the original graph, by comparing different parameters:\n",
    "- Number of nodes\n",
    "- Number of edges\n",
    "- Average degree\n",
    "- Connectedness\n",
    "- Diameter\n",
    "- Average distance\n",
    "- Inverse average distance"
   ]
  },
  {
   "cell_type": "markdown",
   "id": "956eda33",
   "metadata": {},
   "source": [
    "## Building our model\n",
    "[coding section N°25]"
   ]
  },
  {
   "cell_type": "code",
   "execution_count": 25,
   "id": "f2de794d",
   "metadata": {
    "scrolled": false
   },
   "outputs": [],
   "source": [
    "#variable initialization\n",
    "stubs_out = [] #list that will contain all the stubs that go out from nodes\n",
    "stubs_in = [] #list that will contain all the stubs that go into the nodes\n",
    "\n",
    "# recall that kout is the dictionary containing as key the label of the node, and as value its out-degree\n",
    "# it was computed on coding section N°3\n",
    "for node in G.nodes():\n",
    "    for i in range(kout[node]):\n",
    "        stubs_out.append(node)\n",
    "\n",
    "# recall that kin is the dictionary containing as key the label of the node, and as value its in-degree\n",
    "# it was computed on coding section N°3\n",
    "for node in G.nodes():\n",
    "    for i in range(kin[node]):\n",
    "        stubs_in.append(node)\n",
    "        \n",
    "Model = nx.DiGraph() # graph inizialization\n",
    "omega = 100 # threshold omega: it tells how many counts of remaining edges number the model stores\n",
    "remaining_edges_prec = [-1 for i in range(omega-1)] # it storest all the counts of the number of the remaining\n",
    "                                                    # edges at the last omega iteration  \n",
    "remaining_edges_prec.append(len(stubs_out))\n",
    "\n",
    "# picking two random nodes (one with a stub out and one with a stub in) and adding an edge between them\n",
    "index_u = random.randint(0, len(stubs_out)-1) \n",
    "index_v = random.randint(0, len(stubs_in)-1) \n",
    "Model.add_edge(stubs_out[index_u], stubs_in[index_v])\n",
    "\n",
    "# storing the information about the node we just connected, and deleting from the stubs list the stubs we just used\n",
    "u_prec = [stubs_out[index_u]]\n",
    "v_prec = [stubs_out[index_v]]\n",
    "stubs_out.pop(index_u)\n",
    "stubs_in.pop(index_v)\n",
    "\n",
    "flag = True # for a smart break\n",
    "\n",
    "while len(stubs_out) != 0 and flag: # untill we have stubs to connect and we are able to connect them\n",
    "    \n",
    "    # updating the list with the number of remaining edges following the omega threshold\n",
    "    remaining_edges_prec.append(len(stubs_out)) \n",
    "    if len(remaining_edges_prec) > omega:\n",
    "        remaining_edges_prec.pop(0)\n",
    "    \n",
    "    # picking two random nodes (one with a stub out and one with a stub in) and adding an edge between them    \n",
    "    index_u = random.randint(0, len(stubs_out)-1)\n",
    "    index_v = random.randint(0, len(stubs_in)-1)\n",
    "    \n",
    "    if (stubs_out[index_u], stubs_in[index_v]) not in Model.edges(): #checking that the edge is not in the model yet\n",
    "        Model.add_edge(stubs_out[index_u], stubs_in[index_v])\n",
    "        u_prec.append(stubs_out[index_u])\n",
    "        v_prec.append(stubs_out[index_v])\n",
    "        \n",
    "        # deleting from the stubs list the stubs we just used\n",
    "        if len(u_prec) > 2:\n",
    "            u_prec.pop(0)\n",
    "            v_prec.pop(0)\n",
    "        stubs_out.pop(index_u)\n",
    "        stubs_in.pop(index_v)\n",
    "    \n",
    "    # if the edge already exist in the model, it burns an edge to higher the probability of completing the\n",
    "    # model and not getting stuck\n",
    "    elif (stubs_out[index_u] in u_prec and stubs_in[index_v] == v_prec[u_prec.index(stubs_out[index_u])]):\n",
    "        u, v = list(Model.edges())[0]\n",
    "        stubs_out.append(u)\n",
    "        stubs_in.append(v)\n",
    "        Model.remove_edge(u,v)\n",
    "        \n",
    "    flag = False # the smart break\n",
    "    for i in range(omega-1):\n",
    "        if remaining_edges_prec[i] != remaining_edges_prec[i+1]:\n",
    "            flag = True \n",
    "\n",
    "nx.write_gexf(Model, \"random_graph_model.gexf\") # saving the graph in a gephi file"
   ]
  },
  {
   "cell_type": "markdown",
   "id": "b2982c27",
   "metadata": {},
   "source": [
    "## Comparing results\n",
    "[coding section N°26]"
   ]
  },
  {
   "cell_type": "code",
   "execution_count": 26,
   "id": "bd4aefdb",
   "metadata": {},
   "outputs": [
    {
     "name": "stdout",
     "output_type": "stream",
     "text": [
      "Number of nodes of our model:  1224\n",
      "Number of nodes of original graph:  1224\n",
      "Number of edges of our model:  18966\n",
      "Number of edges of original graph:  19025\n",
      "Average degree of our model:  15.495098039215685\n",
      "Average degree of original graph:  15.543300653594772\n",
      "___________________________ Done!\n",
      "The model is not strongly connected\n",
      "For the following parameters computation, we are not considering when the nodes are not connected:\n",
      "Diameter of our model:  8\n",
      "Diameter of original graph:  9\n",
      "Average distance in our model:  2.0824836066887915\n",
      "Average distance in original graph:  2.2222562914508948\n",
      "Inverse average distance in our model:  4.106648202171138\n",
      "Inverse average distance in original graph:  4.559825637239215\n"
     ]
    }
   ],
   "source": [
    "# NUMBER OF NODES\n",
    "N_model = Model.number_of_nodes()\n",
    "print(\"Number of nodes of our model: \", N_model)\n",
    "print(\"Number of nodes of original graph: \", N)\n",
    "\n",
    "for n in G.nodes():\n",
    "    if n not in Model.nodes():\n",
    "        print (n, kout[n], kin[n])\n",
    "\n",
    "# NUMBER OF EDGES\n",
    "E_model = Model.number_of_edges()\n",
    "print(\"Number of edges of our model: \", E_model)\n",
    "print(\"Number of edges of original graph: \", E)\n",
    "\n",
    "# AVERAGE DEGREE\n",
    "avg_degree_model = E_model / N_model\n",
    "print(\"Average degree of our model: \", avg_degree_model)\n",
    "print(\"Average degree of original graph: \", avg_degree)\n",
    "\n",
    "# DIAMETER, SUM OF DISTANCES, SUM OF THE INVERSE OF DISTANCES\n",
    "# Initializing variables\n",
    "Model_diameter = 0 #will become the diameter of the graph\n",
    "Model_distance_sum = 0 #the sum of all the distances among nodes of the graph\n",
    "Model_disconnected = False #to understand whereas the graph is connected\n",
    "Model_inv_distance_sum = 0 #the inverse sum of all the distances among nodes of the graph\n",
    "loading = 0 #inizialitaion of the loading bar variable\n",
    "for u in Model.nodes():\n",
    "    for v in Model.nodes():\n",
    "        if u != v:\n",
    "            try:\n",
    "                Model_distance_u_v = nx.shortest_path_length(Model, u, v)\n",
    "                Model_inv_distance_sum += 1/Model_distance_u_v\n",
    "            except:\n",
    "                Model_distance_u_v = 0\n",
    "                Model_disconnected = True\n",
    "            Model_distance_sum += Model_distance_u_v\n",
    "            if Model_diameter < Model_distance_u_v:\n",
    "                Model_diameter = Model_distance_u_v\n",
    "            \n",
    "    # Loading bar  \n",
    "    loading += 1\n",
    "    if loading >= N_model/10:\n",
    "        loading = 0\n",
    "        print(\"___\", end=\"\")\n",
    "\n",
    "# Computing the average distance\n",
    "Model_avg_distance = Model_distance_sum/(N_model*(N_model-1))\n",
    "\n",
    "# Computing the average inverse distance\n",
    "Model_inv_avg_distance = (N_model*(N_model-1))/Model_inv_distance_sum\n",
    "\n",
    "print(\" Done!\")\n",
    "\n",
    "if Model_disconnected == False:\n",
    "    print(\"The model is strongly connected\")\n",
    "else:\n",
    "    print(\"The model is not strongly connected\")\n",
    "    print(\"For the following parameters computation, we are not considering when the nodes are not connected:\")\n",
    "    \n",
    "print(\"Diameter of our model: \", Model_diameter)\n",
    "print(\"Diameter of original graph: \", diameter)\n",
    "\n",
    "print(\"Average distance in our model: \", Model_avg_distance)\n",
    "print(\"Average distance in original graph: \", avg_distance)\n",
    "\n",
    "print(\"Inverse average distance in our model: \", Model_inv_avg_distance)\n",
    "print(\"Inverse average distance in original graph: \", inv_avg_distance)"
   ]
  },
  {
   "cell_type": "markdown",
   "id": "90d61ec4",
   "metadata": {},
   "source": [
    "## Analysis"
   ]
  },
  {
   "cell_type": "markdown",
   "id": "5100f095",
   "metadata": {},
   "source": [
    "Basing on the similarity of the parameters computed above, we consider the graphs resulting from our random model are a good approximation of the original graph. In fact, the graphs present the same number of nodes (1224), a similar number of edges (slightly less than 19025).\n",
    "\n",
    "The average degree (of about 15.5 links per node in both graphs) is comparable, and this is not surprising since we based our model on the in and out degree of every node. The error discussed above is too small to modify the average degree of the graph. The diamater is comparable, with values for the model that fluctuates between 8 to 9 edges, and the one in the original graph that is of 9 edges, also the average distance and the inverse average distance are very similar.\n",
    "\n",
    "Below, the visualization of one graph generated by one implementation of the model. We can notice that despote applying the \"Force Atlas 2\" algorithm, the graph is not polarized as the one we where trying to imitate. This is because in the model we did not included a probability for making it more likely to be connected for nodes representing blogs with the same political orientation."
   ]
  },
  {
   "cell_type": "markdown",
   "id": "5cd82338",
   "metadata": {},
   "source": [
    "<img src=\"random graph model visualization.png\" alt=\"random graph model visualization\" />"
   ]
  },
  {
   "cell_type": "markdown",
   "id": "643327c5",
   "metadata": {},
   "source": [
    "# WEEK 10: Contagion"
   ]
  },
  {
   "cell_type": "markdown",
   "id": "3a63a0d3",
   "metadata": {},
   "source": [
    "## Code explanation\n",
    "[coding sections N°27,28]"
   ]
  },
  {
   "cell_type": "markdown",
   "id": "c85fa84d",
   "metadata": {},
   "source": [
    "The model we built is a variation of the Rumors Model. The model simulates the spreading dynamic of two news in the graph (it also works with only one news, but with two is more interestng).\n",
    "\n",
    "It considers two outbreaks, meaning two sets of nodes that are spreaders of two different opinions. It then iterates through the nodes that it find inside the graph, and for every node that is not a spreader, it checks wheter it has some neighbours that are spreader of either opinion A or B. Basing on the opinion of the majority of its spreader neighbours, the node will care of the opinion with probability beta. If this is the case, then it will become a stifler with probability alpha and a spreader with probability 1-alpha. To make things interesting and observe the spreading of the news, we should set probability beta to an high value and probability alpha to a low value.\n",
    "\n",
    "In order to observe some interesting results, we decided to use the file with the additional informations about our graph, and in particular save the information on whether each node is liberal or conservative.\n",
    "\n",
    "We tested the model for different outbreaks, and we analysed them using a special function we implemented."
   ]
  },
  {
   "cell_type": "markdown",
   "id": "ab7ee3bb",
   "metadata": {},
   "source": [
    "## Building our model\n",
    "[coding section N°27]"
   ]
  },
  {
   "cell_type": "code",
   "execution_count": 27,
   "id": "e01257b6",
   "metadata": {},
   "outputs": [],
   "source": [
    "def rumors_spreading(G, InfluencersA, InfluencersB = [], beta = 0.7, alpha = 0.2):\n",
    "    \n",
    "    # beta is the probability that, having at least one spreader neighbour,\n",
    "    # the node will care about the news \n",
    "    \n",
    "    # alpha is the probability that, caring about the news,\n",
    "    # the node will not spread it but just be a stifler \n",
    "    \n",
    "    # VARIABLE INIZIALIZATION\n",
    "    # distribution of probability beta in boolean values\n",
    "    probability_beta = []\n",
    "    for i in range(1, 101):\n",
    "        if i <= beta*100:\n",
    "            probability_beta.append(True)\n",
    "        else:\n",
    "            probability_beta.append(False)\n",
    "    \n",
    "    # distribution of probability beta in boolean values\n",
    "    probability_alpha = [] # distribution of probability alpha in boolean values\n",
    "    for i in range(1, 101):\n",
    "        if i <= alpha*100:\n",
    "            probability_alpha.append(True)\n",
    "        else:\n",
    "            probability_alpha.append(False)\n",
    "    \n",
    "    status = {} # it will contain the statuses of each node in the graph \n",
    "    iterations = 0 # to count the times we need to iterate over all the nodes\n",
    "    \n",
    "    # MODEL IMPLEMENTATION\n",
    "    for node in G.nodes():\n",
    "        status[node] = \"Ignorant\"\n",
    "    for node in InfluencersA:\n",
    "        status[node] = \"Spreader A\"\n",
    "    for node in InfluencersB:\n",
    "        status[node] = \"Spreader B\"\n",
    "    \n",
    "    ignorants_prec = -1 # this is for a smart break in the folllowing loop\n",
    "    \n",
    "    for i in range(len(list(G.nodes()))):\n",
    "        iterations += 1\n",
    "        ignorants = 0 # also this is for a smart break in the loop\n",
    "\n",
    "        for node in G.nodes(): # iterating over all the nodes of the graph\n",
    "            if status[node] == \"Ignorant\":\n",
    "                # for each ignorant node, counting how many neighbours are spreaders of opinion A or B\n",
    "                count_A_neighbours = 0\n",
    "                count_B_neighbours = 0\n",
    "                \n",
    "                for u,v in G.edges():\n",
    "                    if u == node:\n",
    "                        if status[v] == \"Spreader A\":\n",
    "                            count_A_neighbours += 1\n",
    "                        if status[v] == \"Spreader B\":\n",
    "                            count_B_neighbours += 1\n",
    "  \n",
    "                # if the ignorant node has some neighbours that are spreaders\n",
    "                if count_A_neighbours != 0 or count_B_neighbours != 0:\n",
    "                    \n",
    "                    # if the ignorant node has more naighbours that are spreaders of opinion A\n",
    "                    if count_A_neighbours > count_B_neighbours:\n",
    "                        # this is to see if the node will care about the news (probability beta)\n",
    "                        if probability_beta[random.randint(0, 99)]: \n",
    "                            # this is to see if the node will become a spreader or a stifler of\n",
    "                            # the news (probability alpha)\n",
    "                            if probability_alpha[random.randint(0, 99)]:\n",
    "                                status[node] = \"Stifler A\"\n",
    "                            else:\n",
    "                                status[node] = \"Spreader A\"\n",
    "                                \n",
    "                    # if the ignorant node has more naighbours that are spreaders of opinion A        \n",
    "                    elif count_A_neighbours < count_B_neighbours:\n",
    "                        if probability_beta[random.randint(0, 99)]:\n",
    "                            if probability_alpha[random.randint(0, 99)]:\n",
    "                                status[node] = \"Stifler B\"\n",
    "                            else:\n",
    "                                status[node] = \"Spreader B\"\n",
    "                    \n",
    "                    # if the ignorant node has as many naighbours that are spreaders of opinion A\n",
    "                    # as spreaders of opinion B\n",
    "                    else:\n",
    "                        status[node] = \"Undecided\"\n",
    "\n",
    "                ignorants += 1\n",
    "        \n",
    "        if ignorants == ignorants_prec:\n",
    "            break #the smart break\n",
    "        ignorants_prec = ignorants\n",
    "\n",
    "    #this is to see what happened at the end of the dynamic\n",
    "    N_spreaders_A = 0\n",
    "    N_spreaders_B = 0\n",
    "    N_stiflers_A = 0\n",
    "    N_stiflers_B = 0\n",
    "    N_ignorants = 0\n",
    "    N_undecideds = 0\n",
    "    for i in status.values():\n",
    "        if i == \"Spreader A\":\n",
    "            N_spreaders_A += 1\n",
    "        elif i == \"Spreader B\":\n",
    "            N_spreaders_B += 1\n",
    "        elif i == \"Stifler A\":\n",
    "            N_stiflers_A += 1\n",
    "        elif i == \"Stifler B\":\n",
    "            N_stiflers_B += 1\n",
    "        elif i == \"Ignorant\":\n",
    "            N_ignorants += 1\n",
    "        elif i == \"undecided\":\n",
    "            N_undecideds += 1\n",
    "    statistics = {\"spreaders of opinion A\": N_spreaders_A, \"spreaders of opinion B\": N_spreaders_B, \"stiflers of opinion A\": N_stiflers_A, \"stiflers of opinion B\": N_stiflers_B, \"ignorants\": N_ignorants, \"undecideds\": N_undecideds}\n",
    "\n",
    "    return (status, statistics, iterations)"
   ]
  },
  {
   "cell_type": "markdown",
   "id": "f9655553",
   "metadata": {},
   "source": [
    "## Investigating different scenarios of outbreak in the graph\n",
    "[coding section N°28, 29, 30]"
   ]
  },
  {
   "cell_type": "code",
   "execution_count": 28,
   "id": "16e26eea",
   "metadata": {},
   "outputs": [],
   "source": [
    "# GETTING ADDITIONAL INFORMATION ABOUT THE NODES\n",
    "\n",
    "Nodes_details = {} # it will contain the detailed information about each node\n",
    "\n",
    "with open(\"Original_graph/nodes_detailed.csv\", \"r\") as fd:\n",
    "    row = fd.readline().strip() # eliminating useless first line\n",
    "    for line in csv.reader(fd):\n",
    "        if int(line[0])+1 in kin.keys(): # this is to take only the nodes that\n",
    "                                          # we considered for our analysis\n",
    "            Nodes_details[int(line[0])+1] = [line[1], int(line[3])] # values will be: the URL of the blog and\n",
    "                                                                    # the code of the political orientation of the\n",
    "                                                                    # node"
   ]
  },
  {
   "cell_type": "code",
   "execution_count": 29,
   "id": "e57f4908",
   "metadata": {},
   "outputs": [],
   "source": [
    "# ANALYZING THE RESULTS OF THE DYNAMIC FOR DIFFERENT INPUTS\n",
    "\n",
    "def result_analysis(result, Nodes_details):\n",
    "    \n",
    "    # observation of the results\n",
    "    print(\"At the end of the dynamic, we observe: \", result[1])\n",
    "    print(\"The number of iterations needed to get to the steady state are: \", result[2])\n",
    "\n",
    "    # verifying the percentage of spreaders and stiflers of each opinion that belongs to the same political\n",
    "    # orientation of the influencers of that opinion with respect to the total spreaders and stiflers of that opinion\n",
    "    liberals = 0\n",
    "    democratics = 0\n",
    "    for node, status in result[0].items(): #iterating over the status dictionary\n",
    "        if status == \"Spreader A\" or status == \"Stifler A\" and Nodes_details[node][1] == 0:\n",
    "            liberals += 1\n",
    "        elif status == \"Spreader B\" or status == \"Stifler B\" and Nodes_details[node][1] == 1:\n",
    "            democratics += 1\n",
    "\n",
    "    percentage_l = round((liberals/(result[1]['spreaders of opinion A'] + result[1]['stiflers of opinion A']))*100)\n",
    "    print(\"The spreaders and stiflers of opinion A where for the\", percentage_l, \"% of the same political orientation of the influencers\")\n",
    "    try:\n",
    "        percentage_d = round((democratics/(result[1]['spreaders of opinion B'] + result[1]['stiflers of opinion B']))*100)\n",
    "        print(\"The spreaders and stiflers of opinion B where for the\", percentage_d, \"% of the same political orientation of the influencers\")\n",
    "    except:\n",
    "        pass\n",
    "    print(\"\\n\")"
   ]
  },
  {
   "cell_type": "code",
   "execution_count": 30,
   "id": "ac05dcae",
   "metadata": {},
   "outputs": [
    {
     "name": "stdout",
     "output_type": "stream",
     "text": [
      "Using as outbreaks the two most influential nodes from each political orientation: \n",
      "At the end of the dynamic, we observe:  {'spreaders of opinion A': 325, 'spreaders of opinion B': 423, 'stiflers of opinion A': 90, 'stiflers of opinion B': 117, 'ignorants': 235, 'undecideds': 0}\n",
      "The number of iterations needed to get to the steady state are:  8\n",
      "The spreaders and stiflers of opinion A where for the 100 % of the same political orientation of the influencers\n",
      "The spreaders and stiflers of opinion B where for the 98 % of the same political orientation of the influencers\n",
      "\n",
      "\n",
      "Using as outbreaks the two most influential nodes from each political orientation, but with different probabilities to become spreaders and stiflers: \n",
      "At the end of the dynamic, we observe:  {'spreaders of opinion A': 162, 'spreaders of opinion B': 202, 'stiflers of opinion A': 251, 'stiflers of opinion B': 268, 'ignorants': 291, 'undecideds': 0}\n",
      "The number of iterations needed to get to the steady state are:  12\n",
      "The spreaders and stiflers of opinion A where for the 97 % of the same political orientation of the influencers\n",
      "The spreaders and stiflers of opinion B where for the 97 % of the same political orientation of the influencers\n",
      "\n",
      "\n",
      "Using as outbreaks two random nodes from each political orientation: \n",
      "At the end of the dynamic, we observe:  {'spreaders of opinion A': 2, 'spreaders of opinion B': 359, 'stiflers of opinion A': 1, 'stiflers of opinion B': 530, 'ignorants': 332, 'undecideds': 0}\n",
      "The number of iterations needed to get to the steady state are:  12\n",
      "The spreaders and stiflers of opinion A where for the 100 % of the same political orientation of the influencers\n",
      "The spreaders and stiflers of opinion B where for the 73 % of the same political orientation of the influencers\n",
      "\n",
      "\n",
      "Using as outbreaks one random node from the liberals: \n",
      "At the end of the dynamic, we observe:  {'spreaders of opinion A': 838, 'spreaders of opinion B': 0, 'stiflers of opinion A': 181, 'stiflers of opinion B': 0, 'ignorants': 205, 'undecideds': 0}\n",
      "The number of iterations needed to get to the steady state are:  8\n",
      "The spreaders and stiflers of opinion A where for the 92 % of the same political orientation of the influencers\n",
      "\n",
      "\n"
     ]
    }
   ],
   "source": [
    "# FIRST INPUT: THE TWO OUTBREAKS ARE THE TWO MOST INFLUENCIAL NODES FROM EACH POLITICAL ORIENTATION\n",
    "print (\"Using as outbreaks the two most influential nodes from each political orientation: \")\n",
    "# Variables initialization\n",
    "kin_liberals = {} # it will contain all the in degrees of liberal nodes\n",
    "kin_democratics = {} # it will contain all the in degrees of democratic nodes\n",
    "\n",
    "# filling the dictionaries with the correct values\n",
    "for k in kin.keys():\n",
    "    if Nodes_details[k][1] == 0:\n",
    "        kin_liberals[k] = kin[k]\n",
    "    elif Nodes_details[k][1] == 1:\n",
    "        kin_democratics[k] = kin[k]\n",
    "\n",
    "influential_liberals_ordered = list(reversed(sorted(kin_liberals.items(), key=lambda x:x[1])))\n",
    "influential_democratics_ordered = list(reversed(sorted(kin_democratics.items(), key=lambda x:x[1])))\n",
    "\n",
    "# filling as input the two most influential nodes from each political orientation \n",
    "outbreakA = [influential_liberals_ordered[0][0], influential_liberals_ordered[1][0]]\n",
    "outbreakB = [influential_democratics_ordered[0][0], influential_democratics_ordered[1][0]]\n",
    "\n",
    "result = rumors_spreading(G, outbreakA, outbreakB) # simulation of the spreading\n",
    "result_analysis(result, Nodes_details) # analysis of the results\n",
    "\n",
    "\n",
    "# SECOND INPUT: SAME AS BEFORE BUT WITH DIFFERENT PROBABILITIES\n",
    "# BETA = 0.5 (LOWERED) AND ALPHA = 0.6 (HIGHERED)\n",
    "print (\"Using as outbreaks the two most influential nodes from each political orientation, but with different probabilities to become spreaders and stiflers: \")\n",
    "result = rumors_spreading(G, outbreakA, outbreakB, 0.5, 0.6) # simulation of the spreading\n",
    "result_analysis(result, Nodes_details) # analysis of the results\n",
    "\n",
    "\n",
    "# THIRD INPUT: THE TWO OUTBREAKS ARE TWO RANDOM NODES FROM EACH POLITICAL ORIENTATION\n",
    "print (\"Using as outbreaks two random nodes from each political orientation: \")\n",
    "outbreakA = [influential_liberals_ordered[random.randint(0, len(influential_liberals_ordered)-1)][0], influential_liberals_ordered[random.randint(0, len(influential_liberals_ordered)-1)][0]]\n",
    "outbreakB = [influential_democratics_ordered[random.randint(0, len(influential_democratics_ordered)-1)][0], influential_democratics_ordered[random.randint(0, len(influential_democratics_ordered)-1)][0]]\n",
    "\n",
    "result = rumors_spreading(G, outbreakA, outbreakB, 0.5, 0.6) # simulation of the spreading\n",
    "result_analysis(result, Nodes_details) # analysis of the results\n",
    "\n",
    "\n",
    "# FOURTH INPUT: VERIFYING THE SPREADING OF ONLY ONE OPINION FROM THE MOST INFLUENTIAL NODE FROM THE LIBERALS\n",
    "print (\"Using as outbreaks one random node from the liberals: \")\n",
    "outbreakA = [influential_liberals_ordered[0][0]]\n",
    "result = rumors_spreading(G, outbreakA) # simulation of the spreading\n",
    "result_analysis(result, Nodes_details) # analysis of the results\n",
    "\n",
    "\n"
   ]
  },
  {
   "cell_type": "markdown",
   "id": "082fa852",
   "metadata": {},
   "source": [
    "## Analysis"
   ]
  },
  {
   "cell_type": "markdown",
   "id": "fba6a6e8",
   "metadata": {},
   "source": [
    "Implementing the graph with different outbreaks we observe some interesting results, starting from the fact that we never observe \"undecided\" nodes: there are no nodes that have as many neighbours that are spreaders of a liberal opinion as neighbours that are spreader of a democratic opinion. Another very interesting fact is that the spreaders of one opinion are very much likely to be of the same political orientation of the influencers of that opinion: this means that the graph is very polarized.\n",
    "\n",
    "Using as outbreaks blogs that are very referenced (nodes with high in-degree) allow us to see very interesting things in the spreading of the dynamic: it takes only a few iterations to get to the steady state and the nodes that remain ignorant are usually less than 20% of the total number of nodes.\n",
    "\n",
    "Changing the probabilities of the model does not change much the final outcome of the dynamic, but it takes some more iterations to get to the steady state.\n",
    "\n",
    "Using as outbreaks blogs picked at random can result sometimes into the spreading of just one of the opinions since it can happen that one of the picked blogs is not much referenced from others, although oftentimes we observe a similar result to the one we get using as outbreak popular blogs.\n",
    "\n",
    "We also implemented the model using only one outbreak: the most influencial node from the liberals. We notice that the dynamics spreads anyway, mostly among the nodes which have the same political opinion as the influencer."
   ]
  },
  {
   "cell_type": "markdown",
   "id": "af21709a",
   "metadata": {},
   "source": [
    "Thanks for the attention! It was interesting and fun to work on this project"
   ]
  }
 ],
 "metadata": {
  "kernelspec": {
   "display_name": "Python 3 (ipykernel)",
   "language": "python",
   "name": "python3"
  },
  "language_info": {
   "codemirror_mode": {
    "name": "ipython",
    "version": 3
   },
   "file_extension": ".py",
   "mimetype": "text/x-python",
   "name": "python",
   "nbconvert_exporter": "python",
   "pygments_lexer": "ipython3",
   "version": "3.9.13"
  },
  "vscode": {
   "interpreter": {
    "hash": "397704579725e15f5c7cb49fe5f0341eb7531c82d19f2c29d197e8b64ab5776b"
   }
  }
 },
 "nbformat": 4,
 "nbformat_minor": 5
}
